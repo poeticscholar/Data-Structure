{
 "cells": [
  {
   "cell_type": "markdown",
   "id": "0b3e2590",
   "metadata": {},
   "source": [
    "## Linear Search Algoritm"
   ]
  },
  {
   "cell_type": "code",
   "execution_count": 16,
   "id": "8187a4b6",
   "metadata": {},
   "outputs": [],
   "source": [
    "def linSearch(_list,key):\n",
    "    for i in _list:\n",
    "        if i==key:\n",
    "            return \"key is found.\"\n",
    "            break\n",
    "    return \"Not found.\""
   ]
  },
  {
   "cell_type": "code",
   "execution_count": 17,
   "id": "e1c5efa9",
   "metadata": {},
   "outputs": [
    {
     "data": {
      "text/plain": [
       "'key is found.'"
      ]
     },
     "execution_count": 17,
     "metadata": {},
     "output_type": "execute_result"
    }
   ],
   "source": [
    "linSearch([2,4,5,8,11,14],14)"
   ]
  },
  {
   "cell_type": "code",
   "execution_count": null,
   "id": "f75d5d45",
   "metadata": {},
   "outputs": [],
   "source": []
  }
 ],
 "metadata": {
  "kernelspec": {
   "display_name": "Python 3 (ipykernel)",
   "language": "python",
   "name": "python3"
  },
  "language_info": {
   "codemirror_mode": {
    "name": "ipython",
    "version": 3
   },
   "file_extension": ".py",
   "mimetype": "text/x-python",
   "name": "python",
   "nbconvert_exporter": "python",
   "pygments_lexer": "ipython3",
   "version": "3.11.1"
  }
 },
 "nbformat": 4,
 "nbformat_minor": 5
}
